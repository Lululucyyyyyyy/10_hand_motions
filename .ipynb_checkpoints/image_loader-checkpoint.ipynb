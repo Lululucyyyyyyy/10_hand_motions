{
 "cells": [
  {
   "cell_type": "code",
   "execution_count": 4,
   "metadata": {},
   "outputs": [],
   "source": [
    "import glob\n",
    "from PIL import Image\n",
    "    \n",
    "def load_images(globpath, word, start):\n",
    "    num = 0\n",
    "    for i, image in enumerate(globpath):\n",
    "        with open(image, 'rb') as file:\n",
    "            img = Image.open(file)\n",
    "            img.save('dataset/' + word + str(i + start) + '.JPG')\n",
    "            num = i\n",
    "    print('done', str(num))"
   ]
  },
  {
   "cell_type": "code",
   "execution_count": 5,
   "metadata": {},
   "outputs": [],
   "source": [
    "#load_images(glob.glob(\"one/*.JPG\"), 'one', 300)"
   ]
  },
  {
   "cell_type": "code",
   "execution_count": 23,
   "metadata": {},
   "outputs": [
    {
     "name": "stdout",
     "output_type": "stream",
     "text": [
      "done 106\n"
     ]
    }
   ],
   "source": [
    "#load_images(glob.glob(\"five/*.JPG\"), 'five', 300)"
   ]
  },
  {
   "cell_type": "code",
   "execution_count": 26,
   "metadata": {},
   "outputs": [
    {
     "name": "stdout",
     "output_type": "stream",
     "text": [
      "done 12\n"
     ]
    }
   ],
   "source": [
    "#load_images(glob.glob(\"two/*.JPG\"), 'two', 300)"
   ]
  },
  {
   "cell_type": "code",
   "execution_count": 27,
   "metadata": {},
   "outputs": [
    {
     "name": "stdout",
     "output_type": "stream",
     "text": [
      "done 31\n"
     ]
    }
   ],
   "source": [
    "#load_images(glob.glob(\"three/*.JPG\"), 'three', 300)"
   ]
  },
  {
   "cell_type": "code",
   "execution_count": 28,
   "metadata": {},
   "outputs": [
    {
     "name": "stdout",
     "output_type": "stream",
     "text": [
      "done 30\n"
     ]
    }
   ],
   "source": [
    "#load_images(glob.glob(\"four/*.JPG\"), 'four', 300)"
   ]
  },
  {
   "cell_type": "code",
   "execution_count": 11,
   "metadata": {},
   "outputs": [],
   "source": [
    "#load_images(glob.glob(\"../down/*.JPG\"), 'down', 300)"
   ]
  },
  {
   "cell_type": "code",
   "execution_count": 12,
   "metadata": {},
   "outputs": [],
   "source": [
    "#load_images(glob.glob(\"../left/*.JPG\"), 'left', 300)"
   ]
  },
  {
   "cell_type": "code",
   "execution_count": 13,
   "metadata": {},
   "outputs": [],
   "source": [
    "#load_images(glob.glob(\"../right/*.JPG\"), 'right', 300)"
   ]
  },
  {
   "cell_type": "code",
   "execution_count": 19,
   "metadata": {},
   "outputs": [
    {
     "name": "stdout",
     "output_type": "stream",
     "text": [
      "done 125\n"
     ]
    }
   ],
   "source": [
    "#load_images(glob.glob(\"ok/*.JPG\"), 'ok', 300)"
   ]
  },
  {
   "cell_type": "code",
   "execution_count": 30,
   "metadata": {},
   "outputs": [
    {
     "name": "stdout",
     "output_type": "stream",
     "text": [
      "done 13\n"
     ]
    }
   ],
   "source": [
    "#load_images(glob.glob(\"thumb/*.JPG\"), 'thumbs', 300)"
   ]
  },
  {
   "cell_type": "code",
   "execution_count": 7,
   "metadata": {},
   "outputs": [],
   "source": [
    "def augmentation(globpath, word, start):\n",
    "    for i, image in enumerate(globpath):\n",
    "        with open(image, 'rb') as file:\n",
    "            img = Image.open(file)\n",
    "            img.resize((224, 224))\n",
    "            img.save('augmented/' + word + str(i + start) + '.JPG')\n",
    "    print('done', str(i))"
   ]
  },
  {
   "cell_type": "code",
   "execution_count": 8,
   "metadata": {},
   "outputs": [
    {
     "name": "stdout",
     "output_type": "stream",
     "text": [
      "done 55\n"
     ]
    }
   ],
   "source": [
    "#augmentation(glob.glob(\"dataset/left*.JPG\"), 'down', 60)"
   ]
  },
  {
   "cell_type": "code",
   "execution_count": 31,
   "metadata": {},
   "outputs": [],
   "source": [
    "def resize(globpath, word):\n",
    "    for i, image in enumerate(globpath):\n",
    "        with open(image, 'rb') as file:\n",
    "            img = Image.open(file)\n",
    "            img = img.resize((224, 224))\n",
    "            img.save('dataset/' + word + str(i+1) + '.JPG')\n",
    "    print('done', str(i+1))"
   ]
  },
  {
   "cell_type": "code",
   "execution_count": 32,
   "metadata": {},
   "outputs": [
    {
     "name": "stdout",
     "output_type": "stream",
     "text": [
      "done 300\n"
     ]
    }
   ],
   "source": [
    "resize(glob.glob(\"dataset/one*.JPG\"), 'one')"
   ]
  },
  {
   "cell_type": "code",
   "execution_count": 33,
   "metadata": {},
   "outputs": [
    {
     "name": "stdout",
     "output_type": "stream",
     "text": [
      "done 300\n"
     ]
    }
   ],
   "source": [
    "resize(glob.glob(\"dataset/five*.JPG\"), 'five')"
   ]
  },
  {
   "cell_type": "code",
   "execution_count": 34,
   "metadata": {},
   "outputs": [
    {
     "name": "stdout",
     "output_type": "stream",
     "text": [
      "done 300\n"
     ]
    }
   ],
   "source": [
    "resize(glob.glob(\"dataset/two*.JPG\"), 'two')"
   ]
  },
  {
   "cell_type": "code",
   "execution_count": 35,
   "metadata": {},
   "outputs": [
    {
     "name": "stdout",
     "output_type": "stream",
     "text": [
      "done 300\n"
     ]
    }
   ],
   "source": [
    "resize(glob.glob(\"dataset/three*.JPG\"), 'three')"
   ]
  },
  {
   "cell_type": "code",
   "execution_count": 36,
   "metadata": {},
   "outputs": [
    {
     "name": "stdout",
     "output_type": "stream",
     "text": [
      "done 300\n"
     ]
    }
   ],
   "source": [
    "resize(glob.glob(\"dataset/four*.JPG\"), 'four')"
   ]
  },
  {
   "cell_type": "code",
   "execution_count": 37,
   "metadata": {},
   "outputs": [
    {
     "name": "stdout",
     "output_type": "stream",
     "text": [
      "done 299\n"
     ]
    }
   ],
   "source": [
    "resize(glob.glob(\"dataset/down*.JPG\"), 'down')"
   ]
  },
  {
   "cell_type": "code",
   "execution_count": 38,
   "metadata": {},
   "outputs": [
    {
     "name": "stdout",
     "output_type": "stream",
     "text": [
      "done 300\n"
     ]
    }
   ],
   "source": [
    "resize(glob.glob(\"dataset/left*.JPG\"), 'left')"
   ]
  },
  {
   "cell_type": "code",
   "execution_count": 39,
   "metadata": {},
   "outputs": [
    {
     "name": "stdout",
     "output_type": "stream",
     "text": [
      "done 300\n"
     ]
    }
   ],
   "source": [
    "resize(glob.glob(\"dataset/right*.JPG\"), 'right')"
   ]
  },
  {
   "cell_type": "code",
   "execution_count": 40,
   "metadata": {},
   "outputs": [
    {
     "name": "stdout",
     "output_type": "stream",
     "text": [
      "done 300\n"
     ]
    }
   ],
   "source": [
    "resize(glob.glob(\"dataset/ok*.JPG\"), 'ok')"
   ]
  },
  {
   "cell_type": "code",
   "execution_count": 41,
   "metadata": {},
   "outputs": [
    {
     "name": "stdout",
     "output_type": "stream",
     "text": [
      "done 300\n"
     ]
    }
   ],
   "source": [
    "resize(glob.glob(\"dataset/thumbs*.JPG\"), 'thumbs')"
   ]
  },
  {
   "cell_type": "code",
   "execution_count": 24,
   "metadata": {},
   "outputs": [
    {
     "name": "stdout",
     "output_type": "stream",
     "text": [
      "done 59\n"
     ]
    }
   ],
   "source": [
    "#augmentation(glob.glob(\"dataset/down*.JPG\"), 'right', 43)"
   ]
  },
  {
   "cell_type": "code",
   "execution_count": 25,
   "metadata": {},
   "outputs": [
    {
     "name": "stdout",
     "output_type": "stream",
     "text": [
      "done 41\n"
     ]
    }
   ],
   "source": [
    "#augmentation(glob.glob(\"dataset/right*.JPG\"), 'one', 140)"
   ]
  },
  {
   "cell_type": "code",
   "execution_count": 26,
   "metadata": {},
   "outputs": [
    {
     "name": "stdout",
     "output_type": "stream",
     "text": [
      "done 138\n"
     ]
    }
   ],
   "source": [
    "#augmentation(glob.glob(\"dataset/one*.JPG\"), 'left', 57)"
   ]
  },
  {
   "cell_type": "code",
   "execution_count": 29,
   "metadata": {},
   "outputs": [],
   "source": [
    "def to_be_augmented(globpath, word, start):\n",
    "    for i, image in enumerate(globpath):\n",
    "        with open(image, 'rb') as file:\n",
    "            img = Image.open(file)\n",
    "            img.resize((224, 224))\n",
    "            img.save('to_be_augmented/' + word + str(i + start) + '.JPG')\n",
    "    print('done', str(i))"
   ]
  },
  {
   "cell_type": "code",
   "execution_count": 36,
   "metadata": {},
   "outputs": [
    {
     "name": "stdout",
     "output_type": "stream",
     "text": [
      "done 138\n"
     ]
    }
   ],
   "source": [
    "#to_be_augmented(glob.glob(\"dataset/one*.JPG\"), 'down', 116)"
   ]
  },
  {
   "cell_type": "code",
   "execution_count": 38,
   "metadata": {},
   "outputs": [
    {
     "name": "stdout",
     "output_type": "stream",
     "text": [
      "done 41\n"
     ]
    }
   ],
   "source": [
    "#to_be_augmented(glob.glob(\"dataset/right*.JPG\"), 'down', 255)"
   ]
  },
  {
   "cell_type": "code",
   "execution_count": 37,
   "metadata": {},
   "outputs": [
    {
     "name": "stdout",
     "output_type": "stream",
     "text": [
      "done 41\n"
     ]
    }
   ],
   "source": [
    "#to_be_augmented(glob.glob(\"dataset/right*.JPG\"), 'left', 196)"
   ]
  },
  {
   "cell_type": "code",
   "execution_count": 39,
   "metadata": {},
   "outputs": [
    {
     "name": "stdout",
     "output_type": "stream",
     "text": [
      "done 59\n"
     ]
    }
   ],
   "source": [
    "#to_be_augmented(glob.glob(\"dataset/down*.JPG\"), 'left', 238)"
   ]
  },
  {
   "cell_type": "code",
   "execution_count": 40,
   "metadata": {},
   "outputs": [
    {
     "name": "stdout",
     "output_type": "stream",
     "text": [
      "done 138\n"
     ]
    }
   ],
   "source": [
    "#to_be_augmented(glob.glob(\"dataset/one*.JPG\"), 'right', 103)"
   ]
  },
  {
   "cell_type": "code",
   "execution_count": 41,
   "metadata": {},
   "outputs": [
    {
     "name": "stdout",
     "output_type": "stream",
     "text": [
      "done 55\n"
     ]
    }
   ],
   "source": [
    "#to_be_augmented(glob.glob(\"dataset/left*.JPG\"), 'right', 242)"
   ]
  },
  {
   "cell_type": "code",
   "execution_count": 43,
   "metadata": {},
   "outputs": [
    {
     "name": "stdout",
     "output_type": "stream",
     "text": [
      "done 55\n"
     ]
    }
   ],
   "source": [
    "#to_be_augmented(glob.glob(\"dataset/left*.JPG\"), 'one', 182)"
   ]
  },
  {
   "cell_type": "code",
   "execution_count": 44,
   "metadata": {},
   "outputs": [
    {
     "name": "stdout",
     "output_type": "stream",
     "text": [
      "done 59\n"
     ]
    }
   ],
   "source": [
    "#to_be_augmented(glob.glob(\"dataset/down*.JPG\"), 'one', 238)"
   ]
  },
  {
   "cell_type": "code",
   "execution_count": null,
   "metadata": {},
   "outputs": [],
   "source": []
  }
 ],
 "metadata": {
  "kernelspec": {
   "display_name": "Python 3",
   "language": "python",
   "name": "python3"
  },
  "language_info": {
   "codemirror_mode": {
    "name": "ipython",
    "version": 3
   },
   "file_extension": ".py",
   "mimetype": "text/x-python",
   "name": "python",
   "nbconvert_exporter": "python",
   "pygments_lexer": "ipython3",
   "version": "3.7.3"
  }
 },
 "nbformat": 4,
 "nbformat_minor": 2
}
